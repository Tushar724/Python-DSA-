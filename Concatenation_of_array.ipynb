{
 "cells": [
  {
   "cell_type": "code",
   "execution_count": null,
   "id": "43ba5aef",
   "metadata": {},
   "outputs": [
    {
     "name": "stdout",
     "output_type": "stream",
     "text": [
      "3\n",
      "[1, 2, 1, 1, 2, 1]\n"
     ]
    }
   ],
   "source": [
    "nums = [1,2,1]\n",
    "count = 0\n",
    "for i in range(len(nums)):\n",
    "    count += 1\n",
    "print(count)\n",
    "\n",
    "ans = [2*count]\n",
    "ans = nums + nums \n",
    "print(ans)"
   ]
  },
  {
   "cell_type": "markdown",
   "id": "27733b0d",
   "metadata": {},
   "source": [
    "We actually wanted to paste the nums copy twice as per the given code. So there's an efficient solution too. \n",
    "\n",
    "But lets understand the problem. Either way we are going to copy the value of nums twice to create an array. As the arrays in the python are dynamic so no need to put the constraints. \n",
    "\n",
    "We will use the append method to add values to array. and then let the loop run for 2 times so that it copies the values to the array. \n",
    "\n",
    "it will take some extra memory because we are creating a new variable named ans. \n",
    "\n",
    "Time complexity is o(n) as we iterate through the whole array twice as it comes out to be O(n) + O(n)"
   ]
  },
  {
   "cell_type": "code",
   "execution_count": null,
   "id": "1a8fef4b",
   "metadata": {},
   "outputs": [],
   "source": [
    "class Solution:\n",
    "    def getConcatenation(self, nums: List[int]) -> List[int]:\n",
    "        ans = []\n",
    "        for i in range(2):\n",
    "            for num in nums:\n",
    "                ans.append(num)\n",
    "        return ans"
   ]
  }
 ],
 "metadata": {
  "kernelspec": {
   "display_name": "Python 3",
   "language": "python",
   "name": "python3"
  },
  "language_info": {
   "codemirror_mode": {
    "name": "ipython",
    "version": 3
   },
   "file_extension": ".py",
   "mimetype": "text/x-python",
   "name": "python",
   "nbconvert_exporter": "python",
   "pygments_lexer": "ipython3",
   "version": "3.9.13"
  }
 },
 "nbformat": 4,
 "nbformat_minor": 5
}
