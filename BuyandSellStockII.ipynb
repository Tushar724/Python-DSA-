{
 "cells": [
  {
   "cell_type": "markdown",
   "id": "1f24402c",
   "metadata": {},
   "source": [
    "# My Solution : \n",
    "We want to track the profit for each day so that it gives us a +ve outcome and we track down the outputs. \n",
    "\n",
    "We do not need to hold on a single stock to and match with every price, but we need to find the minor fluctuations every day that happens inside the array.\n",
    "\n"
   ]
  },
  {
   "cell_type": "markdown",
   "id": "ea9e2ccc",
   "metadata": {},
   "source": [
    "class Solution:\n",
    "    def maxProfit(self, prices: List[int]) -> int:\n",
    "\n",
    "        total_profit = 0\n",
    "\n",
    "        for i in range(len(prices)-1):\n",
    "            profit = prices[i+1] - prices[i]\n",
    "            if profit <= 0:\n",
    "                continue\n",
    "            else:\n",
    "                total_profit += profit\n",
    "\n",
    "        return total_profit"
   ]
  }
 ],
 "metadata": {
  "language_info": {
   "name": "python"
  }
 },
 "nbformat": 4,
 "nbformat_minor": 5
}
