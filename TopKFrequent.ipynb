{
 "cells": [
  {
   "cell_type": "markdown",
   "id": "87fee2fe",
   "metadata": {},
   "source": [
    "1. Using a min heap and tracking the count of the elements \n",
    "# Counter : A subclass of dict that helps count hashable objects. It is particularly useful for counting the frequency of elements in a list."
   ]
  },
  {
   "cell_type": "code",
   "execution_count": null,
   "id": "72e1ab24",
   "metadata": {},
   "outputs": [],
   "source": [
    "import heapq # A simple priority queue implementation using heapq\n",
    "from collections import Counter\n",
    "\n",
    "class Solution:\n",
    "        def topKFrequent(self, nums, k):\n",
    "            # Count the frequency of each element in nums\n",
    "            count = Counter(nums)\n",
    "            \n",
    "            heap = []\n",
    "            # Build a min heap of size k\n",
    "            \n",
    "            for num in count.keys():"
   ]
  }
 ],
 "metadata": {
  "language_info": {
   "name": "python"
  }
 },
 "nbformat": 4,
 "nbformat_minor": 5
}
