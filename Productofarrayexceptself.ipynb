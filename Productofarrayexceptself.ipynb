{
 "cells": [
  {
   "cell_type": "markdown",
   "id": "5a12cba4",
   "metadata": {},
   "source": [
    "# Bruteforce \n",
    "1. TLE \n",
    "2. Iterating through the array tracking i with the outer loop and multiplying j with the inner loop. \n",
    "3. Creating another list to store the product of the elements and then return the list"
   ]
  },
  {
   "cell_type": "code",
   "execution_count": null,
   "id": "497e2646",
   "metadata": {},
   "outputs": [],
   "source": [
    "class Solution:\n",
    "    def productExceptSelf(self, nums: List[int]) -> List[int]:\n",
    "        \n",
    "        result_array = []\n",
    "        \n",
    "        for i in range(len(nums)):\n",
    "            prd = 1\n",
    "            for j in range(len(nums)):\n",
    "                if j == i:\n",
    "                    j += 1\n",
    "                else:\n",
    "                    prd *= nums[j]\n",
    "            result_array.append(prd)\n",
    "        return result_array"
   ]
  }
 ],
 "metadata": {
  "language_info": {
   "name": "python"
  }
 },
 "nbformat": 4,
 "nbformat_minor": 5
}
