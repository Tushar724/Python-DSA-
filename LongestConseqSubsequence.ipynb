{
 "cells": [
  {
   "cell_type": "markdown",
   "id": "2c774fff",
   "metadata": {},
   "source": [
    "# The basic logic behind a sequence is that , there a a number before it smaller than 1 of its value. \n",
    "\n",
    "\n",
    "# Bruteforce Solution : \n",
    "we need to find consequtive number, we can think of a sequence is like , a list of numbers , greater than 1 from each other. What if we can sort out the array and then , get the series arranged in a consequtive manner. so we have an answer but the time complexity goes till O(nlogn)"
   ]
  },
  {
   "cell_type": "markdown",
   "id": "d9aca7cf",
   "metadata": {},
   "source": [
    "#Bruteforce \n",
    "THinking : \n",
    "We take a number and check if the number+1 is there in the set of the nums. If its there , we continue the iterating tracking the streak and at the end we return the streak. \n"
   ]
  },
  {
   "cell_type": "code",
   "execution_count": 14,
   "id": "07337e2b",
   "metadata": {},
   "outputs": [
    {
     "name": "stdout",
     "output_type": "stream",
     "text": [
      "4\n"
     ]
    }
   ],
   "source": [
    "class Solution:\n",
    "    def longestConsecutive(self, nums: [int]) -> int:\n",
    "        res = 0\n",
    "        store = set(nums)\n",
    "\n",
    "        for num in nums:\n",
    "            streak , curr = 0, num\n",
    "            while curr in store:\n",
    "                streak += 1\n",
    "                curr += 1\n",
    "            res = max(res, streak)\n",
    "        return res\n",
    "\n",
    "obj = Solution()\n",
    "arr = [100, 4, 200, 1, 3, 2]\n",
    "print(obj.longestConsecutive(arr))\n",
    "\n"
   ]
  },
  {
   "cell_type": "markdown",
   "id": "f265551d",
   "metadata": {},
   "source": [
    "#Optimal Solution \n",
    "Create a number line to find the pattern inside of it. \n",
    "\n",
    "The first squence is 4 numbers long and the second sequence and other. \n",
    "\n",
    "We have different sequence , but we need to identify how does a sequence starts. and the point is , the first number in the sequence does not have a left neighbor. \n",
    "\n",
    "So we will start from the iterating with the first number in the array and converting it to a set so that there are no duplicate values.\n",
    "\n",
    "afterwards what we actually do is that, we iterate through the array and check for each element that if it has a previous number then its not the start , and if it doesn't then its a start of the sequence and check for the number after it , if it exists or not. if it does , then we track the count of the sequence.  \n",
    "\n",
    "Time Complexity = O(n)\n",
    "Space Complexity = O(n) , initialising a set\n"
   ]
  },
  {
   "cell_type": "code",
   "execution_count": 15,
   "id": "93f7c560",
   "metadata": {},
   "outputs": [
    {
     "name": "stdout",
     "output_type": "stream",
     "text": [
      "4\n"
     ]
    }
   ],
   "source": [
    "class Solution:\n",
    "    def longestConsecutive(self, nums: [int]) -> int:\n",
    "        numSet = set(nums)\n",
    "        longest = 0\n",
    "\n",
    "        for num in numSet:\n",
    "            if (num-1) not in numSet:\n",
    "                length = 1\n",
    "                while (num+length) in numSet:\n",
    "                    length += 1\n",
    "                longest = max(longest, length)\n",
    "        return longest\n",
    "\n",
    "obj = Solution()\n",
    "arr = [100, 4, 200, 1, 3, 2]\n",
    "print(obj.longestConsecutive(arr))"
   ]
  },
  {
   "cell_type": "markdown",
   "id": "7ab4dfb5",
   "metadata": {},
   "source": [
    "# Using Sets mathematically \n",
    "We pop a random number from the set and then, expand it towards the left and the right. \n",
    "removing each element if we encounter L-1 or R+1 \n",
    "Returning the result with l-r+1"
   ]
  },
  {
   "cell_type": "code",
   "execution_count": null,
   "id": "b17b098b",
   "metadata": {},
   "outputs": [],
   "source": [
    "class Solution:\n",
    "    def longestConsecutive(self, nums: [int]) -> int:\n",
    "        res , left = 0, set(nums)\n",
    "\n",
    "        for num in nums:\n",
    "            l = r = set.pop()\n",
    "            while l-1 in left: left.remove(l-1); l-=1; \n",
    "            #taking the element and checking if the left element is in the set\n",
    "            # and if its there then we remove it from the set and decrement the left pointer\n",
    "            # we do this until the left element is not in the set\n",
    "\n",
    "            while r+1 in left: left.remove(r+1); r+=1;\n",
    "            #taking the element and checking if the right element is in the set\n",
    "            # and if its there then we remove it from the set and increment the right pointer\n",
    "            # we do this until the right element is not in the set\n",
    "            res = max(res, r-l+1)\n",
    "            # we return the result with the left and right pointer\n",
    "        return res"
   ]
  }
 ],
 "metadata": {
  "kernelspec": {
   "display_name": "Python 3",
   "language": "python",
   "name": "python3"
  },
  "language_info": {
   "codemirror_mode": {
    "name": "ipython",
    "version": 3
   },
   "file_extension": ".py",
   "mimetype": "text/x-python",
   "name": "python",
   "nbconvert_exporter": "python",
   "pygments_lexer": "ipython3",
   "version": "3.9.13"
  }
 },
 "nbformat": 4,
 "nbformat_minor": 5
}
